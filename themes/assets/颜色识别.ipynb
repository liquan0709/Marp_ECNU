{
 "cells": [
  {
   "cell_type": "code",
   "execution_count": 1,
   "id": "42c505be",
   "metadata": {},
   "outputs": [],
   "source": [
    "from collections import Counter\n",
    "from PIL import Image"
   ]
  },
  {
   "cell_type": "code",
   "execution_count": 7,
   "id": "fc4b011a",
   "metadata": {},
   "outputs": [
    {
     "name": "stdout",
     "output_type": "stream",
     "text": [
      "--color_1: #A61E36;\n",
      "--color_2: #97192F;\n",
      "--color_3: #9A1A31;\n",
      "--color_4: #9D1B33;\n",
      "--color_5: #9E1C34;\n",
      "--color_1: #FFFFFF;\n",
      "--color_2: #DADBDD;\n",
      "--color_3: #DFE0E2;\n",
      "--color_4: #DEDFE1;\n",
      "--color_5: #DDDEE0;\n",
      "--color_1: #EB6178;\n",
      "--color_2: #DC5B71;\n",
      "--color_3: #E15D74;\n",
      "--color_4: #DA5B70;\n",
      "--color_5: #DB5C71;\n",
      "--color_1: #9E78B3;\n",
      "--color_2: #9572AA;\n",
      "--color_3: #9471A9;\n",
      "--color_4: #9370A8;\n",
      "--color_5: #84689B;\n",
      "--color_1: #37AAD7;\n",
      "--color_2: #36A3CE;\n",
      "--color_3: #359FC7;\n",
      "--color_4: #36A0C8;\n",
      "--color_5: #35A1C8;\n",
      "--color_1: #FCFCFC;\n",
      "--color_2: #FDFDFD;\n",
      "--color_3: #FBFBFB;\n",
      "--color_4: #F5F5F5;\n",
      "--color_5: #F3F3F3;\n",
      "--color_1: #FCFDFF;\n",
      "--color_2: #FCFCFE;\n",
      "--color_3: #FBFBFD;\n",
      "--color_4: #FAFBFD;\n",
      "--color_5: #FBFCFE;\n",
      "--color_1: #E7E6E2;\n",
      "--color_2: #FFFFFF;\n",
      "--color_3: #E8E7E3;\n",
      "--color_4: #E6E5E1;\n",
      "--color_5: #EAE9E5;\n",
      "--color_1: #FCFBF7;\n",
      "--color_2: #FCFCF9;\n",
      "--color_3: #F3F3F1;\n",
      "--color_4: #FCFCF8;\n",
      "--color_5: #F0EFEB;\n",
      "--color_1: #F6B128;\n",
      "--color_2: #E7A52B;\n",
      "--color_3: #ECA82B;\n",
      "--color_4: #E3A22C;\n",
      "--color_5: #CF9430;\n",
      "--color_1: #C2D114;\n",
      "--color_2: #B2C217;\n",
      "--color_3: #B6C417;\n",
      "--color_4: #B1C118;\n",
      "--color_5: #B8C617;\n",
      "--color_1: #3BBAB1;\n",
      "--color_2: #33B1A6;\n",
      "--color_3: #33AFA5;\n",
      "--color_4: #32AEA4;\n",
      "--color_5: #29A197;\n"
     ]
    }
   ],
   "source": [
    "def rgb_to_hex(rgb):\n",
    "    return '#{:02X}{:02X}{:02X}'.format(*rgb)\n",
    "\n",
    "# 打开并缩小图片以加速处理\n",
    "for i in range(2,14):\n",
    "    img = Image.open(f\"image1-{i}.jpeg\")\n",
    "    img = img.resize((100, 100))\n",
    "    pixels = list(img.getdata())\n",
    "\n",
    "    # 统计颜色频率\n",
    "    counter = Counter(pixels)\n",
    "    most_common = counter.most_common(5)\n",
    "\n",
    "    # 输出为 Less / SCSS 变量\n",
    "    \n",
    "    for i, (color, _) in enumerate(most_common, start=1):\n",
    "        hex_color = rgb_to_hex(color)\n",
    "        print(f\"--color_{i}: {hex_color};\")"
   ]
  },
  {
   "cell_type": "code",
   "execution_count": 2,
   "id": "b83c67a2",
   "metadata": {},
   "outputs": [
    {
     "name": "stdout",
     "output_type": "stream",
     "text": [
      "最常见颜色: [((166, 30, 54), 7968), ((151, 25, 47), 370), ((154, 26, 49), 362), ((157, 27, 51), 158), ((158, 28, 52), 125)]\n"
     ]
    }
   ],
   "source": [
    "img = Image.open(\"image1-2.jpeg\")\n",
    "img = img.resize((100, 100))\n",
    "pixels = list(img.getdata())\n",
    "\n",
    "counter = Counter(pixels)\n",
    "most_common = counter.most_common(5)\n",
    "print(\"最常见颜色:\", most_common)"
   ]
  }
 ],
 "metadata": {
  "kernelspec": {
   "display_name": "base",
   "language": "python",
   "name": "python3"
  },
  "language_info": {
   "codemirror_mode": {
    "name": "ipython",
    "version": 3
   },
   "file_extension": ".py",
   "mimetype": "text/x-python",
   "name": "python",
   "nbconvert_exporter": "python",
   "pygments_lexer": "ipython3",
   "version": "3.12.2"
  }
 },
 "nbformat": 4,
 "nbformat_minor": 5
}
